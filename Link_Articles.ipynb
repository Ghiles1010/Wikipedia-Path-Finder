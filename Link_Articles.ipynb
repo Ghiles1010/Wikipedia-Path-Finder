{
  "nbformat": 4,
  "nbformat_minor": 0,
  "metadata": {
    "colab": {
      "name": "Link_Articles.ipynb",
      "provenance": [],
      "collapsed_sections": [],
      "include_colab_link": true
    },
    "kernelspec": {
      "name": "python3",
      "display_name": "Python 3"
    },
    "language_info": {
      "name": "python"
    }
  },
  "cells": [
    {
      "cell_type": "markdown",
      "metadata": {
        "id": "view-in-github",
        "colab_type": "text"
      },
      "source": [
        "<a href=\"https://colab.research.google.com/github/Ghiles1010/Wikipedia-Path-Finder/blob/master/Link_Articles.ipynb\" target=\"_parent\"><img src=\"https://colab.research.google.com/assets/colab-badge.svg\" alt=\"Open In Colab\"/></a>"
      ]
    },
    {
      "cell_type": "markdown",
      "metadata": {
        "id": "a8SSYqndpXYI"
      },
      "source": [
        "# Load word embeddings"
      ]
    },
    {
      "cell_type": "code",
      "metadata": {
        "id": "ncaNpwGJqUNg"
      },
      "source": [
        "from gensim.models import KeyedVectors\n",
        "import gensim.downloader \n",
        "\n",
        "model = gensim.downloader.load('glove-wiki-gigaword-200')"
      ],
      "execution_count": 259,
      "outputs": []
    },
    {
      "cell_type": "markdown",
      "metadata": {
        "id": "kgAITDs9pwBu"
      },
      "source": [
        "# Class to contain a node"
      ]
    },
    {
      "cell_type": "code",
      "metadata": {
        "id": "w0b_RB_Ipt_Y"
      },
      "source": [
        "class Node: \n",
        "\n",
        "  def __init__(self, name, depth, similarity, visited=False):\n",
        "    self.name = name\n",
        "    self.depth = depth\n",
        "    self.similarity = similarity\n",
        "    self.cost = 1 - similarity + depth * 0.2"
      ],
      "execution_count": 266,
      "outputs": []
    },
    {
      "cell_type": "markdown",
      "metadata": {
        "id": "gZbShAa1L3lA"
      },
      "source": [
        "# Text treatment"
      ]
    },
    {
      "cell_type": "code",
      "metadata": {
        "id": "yDsktnBL8nTI"
      },
      "source": [
        "import urllib.request\n",
        "import re\n",
        "\n",
        "\n",
        "def get_link(title):\n",
        "  return \"https://en.wikipedia.org/wiki/\"+\"_\".join(title.split())\n",
        "\n",
        "\n",
        "def get_refs(article):\n",
        "  \"\"\" returns references of an article \"\"\"\n",
        "\n",
        "  # fetch html code\n",
        "  link = get_link(article)\n",
        "  html = urllib.request.urlopen(link).read().decode('utf-8')\n",
        "\n",
        "  # get the tiltles of the other articles\n",
        "  references = re.findall(\"href=\\\"\\/wiki/([A-Za-z0-9_]+?)\\\"\", html)\n",
        "  references = list(map(lambda x : \" \".join(x.split(\"_\")), references))\n",
        "\n",
        "  return references"
      ],
      "execution_count": 267,
      "outputs": []
    },
    {
      "cell_type": "markdown",
      "metadata": {
        "id": "J_ohjkTCq_nb"
      },
      "source": [
        "# Sub-Functions"
      ]
    },
    {
      "cell_type": "code",
      "metadata": {
        "id": "nlaYA2dM6MoI"
      },
      "source": [
        "import numpy as np\n",
        "\n",
        "\n",
        "def get_vector(word):\n",
        "\n",
        "  matrix = []\n",
        "  for i in word.split():\n",
        "    matrix.append( model[i] )\n",
        "  \n",
        "  return np.average(matrix, axis=0)\n",
        "\n",
        "\n",
        "\n",
        "def get_distance(node, goal):\n",
        "  \n",
        "  vector_1 = get_vector(node)\n",
        "  vector_2 = get_vector(goal)\n",
        "\n",
        "  return np.dot(vector_1, vector_2) / (np.linalg.norm(vector_1) * np.linalg.norm(vector_2))\n",
        "\n",
        "\n",
        "def is_goal(article, goal, depth):\n",
        "  \"\"\" tells if it is the goal \"\"\"\n",
        "\n",
        "  references = get_refs(article)\n",
        "\n",
        "  references = list(map(lambda x : x.lower(), references))\n",
        "  \n",
        "  # if it's a goal, we return the \n",
        "  for ref in references :\n",
        "    if ref.lower() == goal.lower():\n",
        "      return True, get_link(ref)\n",
        "\n",
        "  i, length = 0, len(references)\n",
        "  \n",
        "  while i < length :\n",
        "\n",
        "    if references[i] in model.vocab : \n",
        "\n",
        "      similarity = get_distance(references[i], goal)\n",
        "      references[i] = Node(references[i], depth, similarity)\n",
        "      i += 1\n",
        "    \n",
        "    else :\n",
        "\n",
        "      del references[i]\n",
        "      length -= 1\n",
        "  \n",
        "  return False, references\n",
        "\n",
        "\n",
        "\n",
        "def combine(open, result):\n",
        "\n",
        "  \" Order closed and open lists, note that we are inserting in a sorted list\"\n",
        "\n",
        "  length = len(open)\n",
        "\n",
        "  for res in result :\n",
        "    index = 0\n",
        "    \n",
        "    while index < length and res.cost > open[index].cost :\n",
        "      index += 1\n",
        "\n",
        "    open = open[:index] + [res] + open[index:]\n",
        "  \n",
        "  \n",
        "  return open\n",
        "\n",
        "\n",
        "def gen_path(came_from, node, goal):\n",
        "  path = [node]\n",
        "\n",
        "  while came_from.get(node):\n",
        "    parent = came_from.get(node)\n",
        "    path = [parent] + path\n",
        "    node = parent\n",
        "\n",
        "  node_goal = Node(goal, parent.depth+1, 0)\n",
        "  path.append(node_goal)\n",
        "  return path\n",
        "\n"
      ],
      "execution_count": 268,
      "outputs": []
    },
    {
      "cell_type": "markdown",
      "metadata": {
        "id": "PxubyztDryga"
      },
      "source": [
        "# A* Algorithm"
      ]
    },
    {
      "cell_type": "code",
      "metadata": {
        "id": "rsbY9DUxrxaE"
      },
      "source": [
        "\n",
        "def A_star(start, goal):\n",
        "\n",
        "  \"\"\" the actual algorithm \"\"\"\n",
        "\n",
        "\n",
        "  came_from = {}\n",
        "\n",
        "  node = Node(start, 1, 1)\n",
        "\n",
        "  open = [node]\n",
        "  closed = []\n",
        "\n",
        "  while open :\n",
        "\n",
        "    node = open[0]\n",
        "    open = open[1:]\n",
        "\n",
        "    if not ( node.name in closed ) :\n",
        "\n",
        "      closed.append(node.name)\n",
        "      found, result = is_goal(node.name, goal, node.depth)\n",
        "\n",
        "      # memorise path\n",
        "      for w in result : came_from[w] = node\n",
        "\n",
        "      if found :\n",
        "        path = gen_path(came_from, node, goal)\n",
        "        return path, came_from\n",
        "\n",
        "      # combine according to evaluation function\n",
        "      open = combine(open, result)\n",
        "\n",
        "\n",
        "\n",
        "def find_path(start, goal):\n",
        "\n",
        "  import time\n",
        "\n",
        "  \"\"\" Interface \"\"\"\n",
        "  start = start.lower()\n",
        "  goal = goal.lower()\n",
        "\n",
        "  top = time.time()\n",
        "  path, nodes = A_star(start, goal)\n",
        "  end = time.time()\n",
        "\n",
        "  t = end - top\n",
        "\n",
        "  print(\"Solution found in \", t, \"seconds\\n\")\n",
        "  for p in path:\n",
        "    print(p.name, get_link(p.name))"
      ],
      "execution_count": 269,
      "outputs": []
    },
    {
      "cell_type": "markdown",
      "metadata": {
        "id": "M6xM6PkZsBkV"
      },
      "source": [
        "# Test"
      ]
    },
    {
      "cell_type": "code",
      "metadata": {
        "colab": {
          "base_uri": "https://localhost:8080/"
        },
        "id": "fXJ5NF6LofSn",
        "outputId": "70442a4e-b8e2-4130-afe0-14b16838e676"
      },
      "source": [
        "find_path(\"Lionel Messi\", 'plywood')"
      ],
      "execution_count": 270,
      "outputs": [
        {
          "output_type": "stream",
          "name": "stdout",
          "text": [
            "Solution found in  1.4419524669647217 seconds\n",
            "\n",
            "lionel messi https://en.wikipedia.org/wiki/lionel_messi\n",
            "isco https://en.wikipedia.org/wiki/isco\n",
            "alicante https://en.wikipedia.org/wiki/alicante\n",
            "anapa https://en.wikipedia.org/wiki/anapa\n",
            "novorossiysk https://en.wikipedia.org/wiki/novorossiysk\n",
            "steel https://en.wikipedia.org/wiki/steel\n",
            "aluminium https://en.wikipedia.org/wiki/aluminium\n",
            "furniture https://en.wikipedia.org/wiki/furniture\n",
            "hardwood https://en.wikipedia.org/wiki/hardwood\n",
            "plywood https://en.wikipedia.org/wiki/plywood\n"
          ]
        }
      ]
    }
  ]
}