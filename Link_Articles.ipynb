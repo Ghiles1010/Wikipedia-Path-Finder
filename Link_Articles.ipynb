{
  "nbformat": 4,
  "nbformat_minor": 0,
  "metadata": {
    "colab": {
      "name": "Link_Articles.ipynb",
      "provenance": [],
      "collapsed_sections": []
    },
    "kernelspec": {
      "name": "python3",
      "display_name": "Python 3"
    },
    "language_info": {
      "name": "python"
    }
  },
  "cells": [
    {
      "cell_type": "markdown",
      "metadata": {
        "id": "LymjR92BpeDG"
      },
      "source": [
        "# Download Embeddings\n"
      ]
    },
    {
      "cell_type": "code",
      "metadata": {
        "id": "msDmz0fTm7qu"
      },
      "source": [
        "!wget -c \"https://s3.amazonaws.com/dl4j-distribution/GoogleNews-vectors-negative300.bin.gz\"\n",
        "!gzip -dk /content/GoogleNews-vectors-negative300.bin.gz"
      ],
      "execution_count": null,
      "outputs": []
    },
    {
      "cell_type": "markdown",
      "metadata": {
        "id": "a8SSYqndpXYI"
      },
      "source": [
        "# Load word embeddings"
      ]
    },
    {
      "cell_type": "code",
      "metadata": {
        "id": "ncaNpwGJqUNg"
      },
      "source": [
        "from gensim.models import KeyedVectors\n",
        "\n",
        "# Load pretrained model\n",
        "model = KeyedVectors.load_word2vec_format('/content/GoogleNews-vectors-negative300.bin', binary=True)"
      ],
      "execution_count": 3,
      "outputs": []
    },
    {
      "cell_type": "markdown",
      "metadata": {
        "id": "kgAITDs9pwBu"
      },
      "source": [
        "# Class to contain a node"
      ]
    },
    {
      "cell_type": "code",
      "metadata": {
        "id": "w0b_RB_Ipt_Y"
      },
      "source": [
        "class Node: \n",
        "\n",
        "  def __init__(self, name, depth, cost):\n",
        "    self.name = name\n",
        "    self.depth = depth\n",
        "    self.cost = cost\n",
        "    self.value = 1 - cost + depth"
      ],
      "execution_count": 130,
      "outputs": []
    },
    {
      "cell_type": "markdown",
      "metadata": {
        "id": "gZbShAa1L3lA"
      },
      "source": [
        "# Text treatment"
      ]
    },
    {
      "cell_type": "code",
      "metadata": {
        "id": "yDsktnBL8nTI"
      },
      "source": [
        "import urllib.request\n",
        "import re\n",
        "\n",
        "\n",
        "\"\"\" returns article link given title \"\"\"\n",
        "def get_link_title(title):\n",
        "  return \"https://en.wikipedia.org/wiki/\"+\"_\".join(title.split())\n",
        "\n",
        "\n",
        "\"\"\" returns article link given href \"\"\"\n",
        "def get_link_href(href):\n",
        "  return \"https://en.wikipedia.org/wiki/\"+\"_\".join(href.split())\n",
        "\n",
        "\n",
        "\"\"\" returns references of an article \"\"\"\n",
        "def get_refs(article):\n",
        "\n",
        "  # fetch html code\n",
        "  link = get_link_title(article)\n",
        "  html = urllib.request.urlopen(link).read().decode('utf-8')\n",
        "\n",
        "  # get the tiltles of the other articles\n",
        "  references = re.findall(\"href=\\\"\\/wiki/([A-Za-z0-9_]+?)\\\"\", html)\n",
        "  references = list(map(lambda x : \" \".join(x.split(\"_\")), references))\n",
        "\n",
        "  return references"
      ],
      "execution_count": 129,
      "outputs": []
    },
    {
      "cell_type": "markdown",
      "metadata": {
        "id": "J_ohjkTCq_nb"
      },
      "source": [
        "# Define Functions"
      ]
    },
    {
      "cell_type": "code",
      "metadata": {
        "id": "nlaYA2dM6MoI"
      },
      "source": [
        "import numpy as np\n",
        "import time\n",
        "\n",
        "\"\"\" get embedding of a word \"\"\"\n",
        "def get_vector(word):\n",
        "\n",
        "  matrix = []\n",
        "  for i in word.split():\n",
        "    matrix.append( model[i] )\n",
        "  \n",
        "  return np.average(matrix, axis=0)\n",
        "\n",
        "\n",
        "\"\"\" Compute cosine distance between two words \"\"\"\n",
        "def get_distance(node, goal):\n",
        "  \n",
        "  vector_1 = get_vector(node)\n",
        "  vector_2 = get_vector(goal)\n",
        "\n",
        "  return np.dot(vector_1, vector_2) / (np.linalg.norm(vector_1) * np.linalg.norm(vector_2))\n",
        "\n",
        "\"\"\" tells if it is the goal \"\"\"\n",
        "def is_goal(article, goal, depth):\n",
        "\n",
        "  references = get_refs(article)\n",
        "  \n",
        "  # if it's a goal, we return the \n",
        "  for ref in references :\n",
        "    if ref.lower() == goal.lower():\n",
        "      return True, get_link_href(ref)\n",
        "\n",
        "  length = len(references)\n",
        "  i = 0\n",
        "\n",
        "  while i < length :\n",
        "\n",
        "    if references[i] in model.vocab : \n",
        "\n",
        "      cost = get_distance(references[i], goal)\n",
        "      references[i] = Node(references[i], depth, cost)\n",
        "      i += 1\n",
        "    \n",
        "    else :\n",
        "\n",
        "      del references[i]\n",
        "      length -= 1\n",
        "  \n",
        "  return False, references\n",
        "\n",
        "\n",
        "\" Order closed and open lists, note that we are inserting in a sorted list\"\n",
        "def combine(open, result):\n",
        "\n",
        "  length = len(open)\n",
        "\n",
        "  for res in result :\n",
        "    index = 0\n",
        "    \n",
        "    while index < length and res.value > open[index].value :\n",
        "      index += 1\n",
        "\n",
        "    open = open[:index] + [res] + open[index:]\n",
        "  return open\n",
        "\n"
      ],
      "execution_count": 131,
      "outputs": []
    },
    {
      "cell_type": "markdown",
      "metadata": {
        "id": "PxubyztDryga"
      },
      "source": [
        "# A* Algorithm"
      ]
    },
    {
      "cell_type": "code",
      "metadata": {
        "id": "rsbY9DUxrxaE"
      },
      "source": [
        "\"\"\" the actual algorithm \"\"\"\n",
        "def A_star(start, goal):\n",
        "\n",
        "\n",
        "  came_from = {}\n",
        "\n",
        "  node = Node(start, 1, 1)\n",
        "\n",
        "  open = [node]\n",
        "  closed = []\n",
        "\n",
        "  while open :\n",
        "\n",
        "\n",
        "    node = open[0]\n",
        "    open = open[1:]\n",
        "\n",
        "    if not ( node.name in closed ) :\n",
        "\n",
        "      closed.append(node.name)\n",
        "\n",
        "      found, result = is_goal(node.name, goal, node.depth)\n",
        "\n",
        "      if found :\n",
        "        path = [node]\n",
        "\n",
        "        while came_from.get(node):\n",
        "          parent = came_from.get(node)\n",
        "          path = [parent] + path\n",
        "          node = parent\n",
        "\n",
        "        node_goal = Node(goal, parent.depth+1, 0)\n",
        "        path.append(node_goal)\n",
        "        return path\n",
        "\n",
        "      # memorise path\n",
        "      for i in result :\n",
        "        came_from[i] = node\n",
        "\n",
        "      # combine according to evaluation function\n",
        "      open = combine(open, result)\n",
        "\n",
        "\n",
        "\"\"\" Interface \"\"\"\n",
        "def find_path(start, goal):\n",
        "\n",
        "  top = time.time()\n",
        "  path = A_star(start, goal)\n",
        "  end = time.time()\n",
        "\n",
        "  t = end - top\n",
        "\n",
        "  print(\"Solution found in \", t, \"seconds\\n\")\n",
        "  for p in path:\n",
        "    print(p.name, get_link_title(p.name))"
      ],
      "execution_count": 127,
      "outputs": []
    },
    {
      "cell_type": "markdown",
      "metadata": {
        "id": "M6xM6PkZsBkV"
      },
      "source": [
        "# Test"
      ]
    },
    {
      "cell_type": "code",
      "metadata": {
        "colab": {
          "base_uri": "https://localhost:8080/"
        },
        "id": "fXJ5NF6LofSn",
        "outputId": "f3974435-9fe9-46fb-8b9e-4f570ad0d776"
      },
      "source": [
        "find_path(\"Tree\", \"Helium\")"
      ],
      "execution_count": 132,
      "outputs": [
        {
          "output_type": "stream",
          "text": [
            "Solution found in  0.13705968856811523 seconds\n",
            "\n",
            "Tree https://en.wikipedia.org/wiki/Tree\n",
            "Lumberjack https://en.wikipedia.org/wiki/Lumberjack\n",
            "Biochar https://en.wikipedia.org/wiki/Biochar\n",
            "Oxygen https://en.wikipedia.org/wiki/Oxygen\n",
            "Helium https://en.wikipedia.org/wiki/Helium\n"
          ],
          "name": "stdout"
        }
      ]
    }
  ]
}